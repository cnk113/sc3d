{
 "cells": [
  {
   "cell_type": "code",
   "execution_count": 50,
   "id": "1e21d35c",
   "metadata": {},
   "outputs": [],
   "source": [
    "import scanpy \n",
    "import pandas\n",
    "import os\n",
    "import scipy"
   ]
  },
  {
   "cell_type": "code",
   "execution_count": 13,
   "id": "a109852a",
   "metadata": {},
   "outputs": [
    {
     "data": {
      "text/plain": [
       "'/Users/changkim/Downloads/sc3d-main'"
      ]
     },
     "execution_count": 13,
     "metadata": {},
     "output_type": "execute_result"
    }
   ],
   "source": [
    "pwd"
   ]
  },
  {
   "cell_type": "code",
   "execution_count": 15,
   "id": "d34cfc87",
   "metadata": {},
   "outputs": [],
   "source": [
    "x=scanpy.read(\"/Users/changkim/Downloads/sc3d-main/ATACmeta\")"
   ]
  },
  {
   "cell_type": "code",
   "execution_count": 16,
   "id": "c7e446d2",
   "metadata": {},
   "outputs": [
    {
     "data": {
      "text/plain": [
       "AnnData object with n_obs × n_vars = 110 × 260358\n",
       "    obs: 'n_counts'\n",
       "    var: 'GC_bin', 'counts_bin', 'n_cells'\n",
       "    uns: 'log1p'\n",
       "    obsm: 'X_svd'\n",
       "    layers: 'raw'"
      ]
     },
     "execution_count": 16,
     "metadata": {},
     "output_type": "execute_result"
    }
   ],
   "source": [
    "x"
   ]
  },
  {
   "cell_type": "code",
   "execution_count": 17,
   "id": "e2f63401",
   "metadata": {},
   "outputs": [
    {
     "data": {
      "text/plain": [
       "<110x260358 sparse matrix of type '<class 'numpy.float32'>'\n",
       "\twith 12889445 stored elements in Compressed Sparse Row format>"
      ]
     },
     "execution_count": 17,
     "metadata": {},
     "output_type": "execute_result"
    }
   ],
   "source": [
    "x.X"
   ]
  },
  {
   "cell_type": "code",
   "execution_count": 27,
   "id": "cf079223",
   "metadata": {},
   "outputs": [],
   "source": [
    "scipy.io.mmwrite(\"/Users/changkim/Downloads/sc3d-main/sample.mtx\",x.X)"
   ]
  },
  {
   "cell_type": "code",
   "execution_count": 71,
   "id": "f9f22093",
   "metadata": {},
   "outputs": [],
   "source": [
    "index = x.var.index\n",
    "\n",
    "o1 = index.to_frame()\n",
    "o1.to_csv(\"index.csv\")"
   ]
  },
  {
   "cell_type": "code",
   "execution_count": 72,
   "id": "f708f565",
   "metadata": {},
   "outputs": [],
   "source": [
    "obs = x.obs.index\n",
    "o2 = obs.to_frame()\n",
    "o2.to_csv(\"obs.csv\")"
   ]
  },
  {
   "cell_type": "code",
   "execution_count": 70,
   "id": "40c1e05f",
   "metadata": {},
   "outputs": [
    {
     "data": {
      "text/plain": [
       "SEACell-64    SEACell-64\n",
       "SEACell-88    SEACell-88\n",
       "SEACell-31    SEACell-31\n",
       "SEACell-25    SEACell-25\n",
       "SEACell-78    SEACell-78\n",
       "                 ...    \n",
       "SEACell-45    SEACell-45\n",
       "SEACell-24    SEACell-24\n",
       "SEACell-99    SEACell-99\n",
       "SEACell-16    SEACell-16\n",
       "SEACell-19    SEACell-19\n",
       "Name: 0, Length: 110, dtype: object"
      ]
     },
     "execution_count": 70,
     "metadata": {},
     "output_type": "execute_result"
    }
   ],
   "source": []
  },
  {
   "cell_type": "code",
   "execution_count": 60,
   "id": "2461d0fc",
   "metadata": {},
   "outputs": [
    {
     "data": {
      "text/plain": [
       "Index(['chr1:817083-817583', 'chr1:826707-827207', 'chr1:827277-827777',\n",
       "       'chr1:858594-859094', 'chr1:869643-870143', 'chr1:903889-904389',\n",
       "       'chr1:904508-905008', 'chr1:905184-905684', 'chr1:906700-907200',\n",
       "       'chr1:909864-910364',\n",
       "       ...\n",
       "       'chrX:155767295-155767795', 'chrX:155767970-155768470',\n",
       "       'chrX:155820048-155820548', 'chrX:155845159-155845659',\n",
       "       'chrX:155871814-155872314', 'chrX:155881021-155881521',\n",
       "       'chrX:155891817-155892317', 'chrX:155905584-155906084',\n",
       "       'chrX:155910240-155910740', 'chrX:155956607-155957107'],\n",
       "      dtype='object', length=260358)"
      ]
     },
     "execution_count": 60,
     "metadata": {},
     "output_type": "execute_result"
    }
   ],
   "source": [
    "index"
   ]
  },
  {
   "cell_type": "code",
   "execution_count": null,
   "id": "63096f33",
   "metadata": {},
   "outputs": [],
   "source": []
  }
 ],
 "metadata": {
  "kernelspec": {
   "display_name": "Python 3 (ipykernel)",
   "language": "python",
   "name": "python3"
  },
  "language_info": {
   "codemirror_mode": {
    "name": "ipython",
    "version": 3
   },
   "file_extension": ".py",
   "mimetype": "text/x-python",
   "name": "python",
   "nbconvert_exporter": "python",
   "pygments_lexer": "ipython3",
   "version": "3.9.13"
  }
 },
 "nbformat": 4,
 "nbformat_minor": 5
}
